{
 "cells": [
  {
   "cell_type": "markdown",
   "id": "9d94a581-14ca-438a-87eb-c7a8a85e2b0f",
   "metadata": {
    "tags": []
   },
   "source": [
    "Alejandra Duque Maldonado\n",
    "# Assignment 1 "
   ]
  },
  {
   "cell_type": "markdown",
   "id": "517e1672-9250-4ccd-a13d-85a3b275dada",
   "metadata": {},
   "source": [
    "The following program aims to open and read a book obtained from Project Gutengerb, in this case \"Alice in Wonderland\" by Lewis Carroll, and count the frequency of each word in the text. \n",
    "\n",
    "Prior to running the program, we need to load the libraries that will be used for this task. To perform the linguistic analysis we will first need to add the NLTK library and some of its packages, which will allow us to tokenize the text and obtain a frequency distribution. Additionally, we include the string corpus to extract punctuation symbols. Lastly, we will make use of the numpy and matplotlib libraries to visualize Zipf's law. "
   ]
  },
  {
   "cell_type": "code",
   "execution_count": 1,
   "id": "8a0f1300-15a8-4a66-962e-0b523b549844",
   "metadata": {
    "tags": []
   },
   "outputs": [],
   "source": [
    "import nltk\n",
    "from nltk import word_tokenize\n",
    "import string\n",
    "from nltk.probability import FreqDist\n",
    "import numpy as np \n",
    "import matplotlib.pyplot as plt"
   ]
  },
  {
   "cell_type": "markdown",
   "id": "e058c617-242a-4c85-aa78-0dd91becdaed",
   "metadata": {},
   "source": [
    "The first step of this program is to open and read the book previously downloaded from the Project Gutenberg website. The book we need is located in the zip folder of this assignment as a .txt file. The following line locates and reads the file, encoding the text in UTF-8 so it can be correctly interpreted."
   ]
  },
  {
   "cell_type": "code",
   "execution_count": 2,
   "id": "f3d3060e-60e8-4d75-b250-7fd89d1fc6e6",
   "metadata": {
    "tags": []
   },
   "outputs": [],
   "source": [
    "book= open(\"alice.txt\", \"r\", encoding= \"utf-8\").read()"
   ]
  },
  {
   "cell_type": "markdown",
   "id": "0f791d66-fcb3-4878-b30e-c47535c225ee",
   "metadata": {},
   "source": [
    "Once we have the raw text from the file, we need to separate this data into segments, which means divide the text into words. To do this we will use the word tokenizer from NLTK. Additionally, to ensure the whole text is uniform and all the words will be equally interpreted by the program, we will need to normalize the text, for this we will use the .lower() function to transform all of the words into lower case characters. "
   ]
  },
  {
   "cell_type": "code",
   "execution_count": 3,
   "id": "de716f4d-9577-406e-bc9c-979c222cd0eb",
   "metadata": {},
   "outputs": [],
   "source": [
    "tokens_alice= word_tokenize(book)\n",
    "lower_alice=[w.lower() for w in tokens_alice]"
   ]
  },
  {
   "cell_type": "markdown",
   "id": "1fc6bde5-9728-48e5-a036-a64a7c5c66c3",
   "metadata": {},
   "source": [
    "In this block, we will exclude noisy characters, as it is punctuation, from our data. This way we will work uniquely with the words from the book. "
   ]
  },
  {
   "cell_type": "code",
   "execution_count": 4,
   "id": "e53db9fd-3b6c-404f-a9e9-427bfd00839d",
   "metadata": {},
   "outputs": [],
   "source": [
    "punctuation= string.punctuation #String with list of punctuation\n",
    "excluded_signs= [\"’\", \"“\", \"”\",\"‘\"] #List of all of the signs that are not included in the predefined string\n",
    "clean_alice= [w for w in lower_alice if w not in punctuation and w not in excluded_signs] #Excludes punctuation"
   ]
  },
  {
   "cell_type": "markdown",
   "id": "24e2bcd8-0227-4ce5-b000-b232b5ec5841",
   "metadata": {},
   "source": [
    "Here we can see a list of the first 30 words in the book."
   ]
  },
  {
   "cell_type": "code",
   "execution_count": 5,
   "id": "efe159c3-a4c6-4ba8-992e-ab6852bdcad5",
   "metadata": {},
   "outputs": [
    {
     "name": "stdout",
     "output_type": "stream",
     "text": [
      "['\\ufeffthe', 'project', 'gutenberg', 'ebook', 'of', 'alice', \"'s\", 'adventures', 'in', 'wonderland', 'this', 'ebook', 'is', 'for', 'the', 'use', 'of', 'anyone', 'anywhere', 'in', 'the', 'united', 'states', 'and', 'most', 'other', 'parts', 'of', 'the', 'world']\n"
     ]
    }
   ],
   "source": [
    "print(clean_alice[:30])"
   ]
  },
  {
   "cell_type": "markdown",
   "id": "6b616a73-39ff-4342-86c8-e82f208498e3",
   "metadata": {},
   "source": [
    "The NLTK tool has a function we can use to get a frequency distribution of the words in a text (https://www.nltk.org/api/nltk.probability.FreqDist.html). The output is an NLTK object containing a dictionary that consists of a key (word) and a value (frequency)."
   ]
  },
  {
   "cell_type": "code",
   "execution_count": 7,
   "id": "c6e5918e-6b98-4db9-8eb6-4ccd8881db1b",
   "metadata": {
    "tags": []
   },
   "outputs": [
    {
     "data": {
      "text/plain": [
       "FreqDist({'the': 1824, 'and': 911, 'to': 801, 'a': 688, 'of': 631, 'it': 591, 'she': 546, 'i': 512, 'you': 463, 'said': 457, ...})"
      ]
     },
     "execution_count": 7,
     "metadata": {},
     "output_type": "execute_result"
    }
   ],
   "source": [
    "word_distribution= FreqDist(clean_alice)\n",
    "word_distribution "
   ]
  },
  {
   "cell_type": "markdown",
   "id": "d66526a2-222e-46b1-9390-c3a4644e4d67",
   "metadata": {},
   "source": [
    "For observation purposes, in the line below we can see how the words with the highest frequency tend to be the shortest forms of words and the ones that carry less semantic meaning, i.e. articles, pronouns, prepositions... Whereas, the words with lowest frequency tend to be semantically meaningful, as it can be verbs, nouns, adverbs, etc. (See least frequent word list below)"
   ]
  },
  {
   "cell_type": "code",
   "execution_count": 25,
   "id": "046965c6-dddc-4b47-b1a1-afd0f270b8f7",
   "metadata": {
    "tags": []
   },
   "outputs": [
    {
     "name": "stdout",
     "output_type": "stream",
     "text": [
      "Most frequent words: [('the', 1824), ('and', 911), ('to', 801), ('a', 688), ('of', 631), ('it', 591), ('she', 546), ('i', 512), ('you', 463), ('said', 457), ('in', 429), ('alice', 402), ('was', 353), ('that', 308), ('as', 271)]\n",
      "\n",
      "\n",
      "Least frequent words: [('newsletter', 1), ('subscribe', 1), ('produce', 1), ('includes', 1), ('facility', 1), ('pg', 1), ('main', 1), ('necessarily', 1), ('thus', 1), ('confirmed', 1), ('volunteer', 1), ('network', 1), ('forty', 1), ('library', 1)]\n"
     ]
    }
   ],
   "source": [
    "print(f'Most frequent words: {word_distribution.most_common(15)}')\n",
    "least_frequent_words = word_distribution.most_common()[:-15:-1] #Least frequent words \n",
    "print('\\n')\n",
    "print(f'Least frequent words: {least_frequent_words}')\n"
   ]
  },
  {
   "cell_type": "markdown",
   "id": "3d05125a-3567-4c3f-b320-9698e1764781",
   "metadata": {},
   "source": [
    "Word distribution is mathematically simple and obeys Zipf's law. An empirical law that approximates the word frequency in terms of its rank. This law shows a pattern in the frequency of words, as we can see the frequency of use of a word is proportional to 1 over its rank. That is, the most frequent word  has a frequency proportional to 1, the second most frequent word has a frequency proportional to 1/2α, the third most frequent word has a frequency proportional to 1/3α and so on. Further information on Zipft's law: https://www.ncbi.nlm.nih.gov/pmc/articles/PMC4176592/"
   ]
  },
  {
   "cell_type": "markdown",
   "id": "6d664278-0697-4107-9ed7-a3ba4ff1a765",
   "metadata": {},
   "source": [
    "To plot the Zipf's law, since our previous results is an NLTK object, we will use the \"dict\" function to transform this object into a Python dictionary and manipulate the data. For this we will use the code below, which converts the object into a sorted dictionary (descending order) and then uses a loop to retrieve the word frequency from the sorted dictionary."
   ]
  },
  {
   "cell_type": "code",
   "execution_count": 9,
   "id": "63b9281a-3bdb-4bfe-a374-4ccf02fc3b7d",
   "metadata": {
    "tags": []
   },
   "outputs": [],
   "source": [
    "sorted_dict = dict(sorted(word_distribution.items(), key=lambda item: item[1], reverse=True)) #sorted dictionary\n",
    "freq_list = []\n",
    "for word, frequency in list(sorted_dict.items()):\n",
    "    freq_list.append(frequency)"
   ]
  },
  {
   "cell_type": "markdown",
   "id": "8f6539b7-b79e-43a2-9c62-07b60176e4c7",
   "metadata": {},
   "source": [
    "This list is them converted into a numpy array and arranged from 1 to n values. From here, we plot the Zipf's law with the frequencies of our corpus following the Zipf's law parameters:\n",
    "\n",
    "\n",
    "Highest frequency / r^(log(Highest frequency)/log(Highest rank))\n"
   ]
  },
  {
   "cell_type": "code",
   "execution_count": 17,
   "id": "78fa73bc-363c-44b6-86ee-687936b6380e",
   "metadata": {},
   "outputs": [
    {
     "data": {
      "image/png": "[encoded data removed]",
      "text/plain": [
       "<Figure size 640x480 with 1 Axes>"
      ]
     },
     "metadata": {},
     "output_type": "display_data"
    }
   ],
   "source": [
    "freq_list = np.asarray(freq_list) \n",
    "n = np.arange(freq_list.shape[0])+1 \n",
    "y = freq_list[0]/(np.power(n, np.log(freq_list[0])/np.log(freq_list.shape[0]))) \n",
    "\n",
    "plt.plot(n, freq_list, label='alice')\n",
    "plt.loglog(n, y, label='zipf law')\n",
    "plt.legend()\n",
    "plt.xlabel('word rank')\n",
    "plt.ylabel('frequency')\n",
    "plt.show()"
   ]
  }
 ],
 "metadata": {
  "kernelspec": {
   "display_name": "Python 3 (ipykernel)",
   "language": "python",
   "name": "python3"
  },
  "language_info": {
   "codemirror_mode": {
    "name": "ipython",
    "version": 3
   },
   "file_extension": ".py",
   "mimetype": "text/x-python",
   "name": "python",
   "nbconvert_exporter": "python",
   "pygments_lexer": "ipython3",
   "version": "3.11.5"
  }
 },
 "nbformat": 4,
 "nbformat_minor": 5
}
