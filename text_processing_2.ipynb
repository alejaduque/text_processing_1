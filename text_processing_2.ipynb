{
 "cells": [
  {
   "cell_type": "markdown",
   "id": "271e6e00-70a3-4bf7-994e-d9350b153c45",
   "metadata": {
    "tags": []
   },
   "source": [
    "Alejandra Duque Maldonado\n",
    "\n",
    "# Assignment 2"
   ]
  },
  {
   "cell_type": "markdown",
   "id": "8f9818fe-8999-4435-9329-e73fef0b4d5c",
   "metadata": {},
   "source": [
    "This program aims to extract and annotate linguistic data from a book from Project Gutenberg. We will be working with \"Alice in Wonderland\" by Lewis Carroll, the same book we used for Assignment 1. \n",
    "\n",
    "With this program we will read the book, tokenize its words, clean the text from stopwords and punctuation and, finally, perform POS tagging to count its frequency. For this task we will use the packages listed below.\n",
    "\n",
    "For the linguistic analysis, we will make use of the different NLTK functionalities, mainly its corpus, Regex tokenizer and POS tagger. To plot a graphic of the final output, we will make use of the Matplotlib library. \n",
    "\n",
    "Note: In case of not having the \"wordnet\" database included in the Python enviroment, take out comment from line 12 and run the cell. "
   ]
  },
  {
   "cell_type": "code",
   "execution_count": 1,
   "id": "c89a7324-4939-4cea-beb7-99fa378ff36b",
   "metadata": {
    "tags": []
   },
   "outputs": [],
   "source": [
    "import nltk\n",
    "from nltk import word_tokenize\n",
    "import string\n",
    "from nltk.probability import FreqDist\n",
    "import numpy as np \n",
    "import re \n",
    "from nltk.tokenize import RegexpTokenizer\n",
    "from nltk.corpus import stopwords\n",
    "from nltk.tag import pos_tag\n",
    "from nltk.stem import WordNetLemmatizer\n",
    "from nltk.corpus import wordnet\n",
    "#nltk.download('wordnet')\n",
    "from nltk.probability import FreqDist \n",
    "import matplotlib.pyplot as plt"
   ]
  },
  {
   "cell_type": "markdown",
   "id": "f3c2ba93-51ca-4e45-913f-bb40f7671f3d",
   "metadata": {},
   "source": [
    "This first line of code opens and reads the book we will use. Once again, the book we need is located in the zip folder of this assignment as a .txt file. The following line locates and reads the file, encoding the text in UTF-8-sig so it can be correctly interpreted."
   ]
  },
  {
   "cell_type": "code",
   "execution_count": 2,
   "id": "72a49f3c-8ee8-498d-a7b0-b25eb0569600",
   "metadata": {
    "tags": []
   },
   "outputs": [],
   "source": [
    "book= open(\"alice.txt\", \"r\", encoding= \"utf-8-sig\").read()"
   ]
  },
  {
   "cell_type": "markdown",
   "id": "3fbcaac3-2683-4b3e-bed7-9f4ef709d0a4",
   "metadata": {},
   "source": [
    "The following line of code uses the NLTK tokenizer to split the text in words. From this we will be able to observe which possible problems would arise from this by-default tokenization. "
   ]
  },
  {
   "cell_type": "code",
   "execution_count": 3,
   "id": "5591aa9b-3c80-4461-8f0d-d682c12e3162",
   "metadata": {
    "tags": []
   },
   "outputs": [
    {
     "name": "stdout",
     "output_type": "stream",
     "text": [
      "['The', 'Project', 'Gutenberg', 'eBook', 'of', 'Alice', \"'s\", 'Adventures', 'in', 'Wonderland', 'This', 'ebook', 'is', 'for', 'the', 'use', 'of', 'anyone', 'anywhere', 'in', 'the', 'United', 'States', 'and', 'most', 'other', 'parts', 'of', 'the', 'world', 'at', 'no', 'cost', 'and', 'with', 'almost', 'no', 'restrictions', 'whatsoever', '.', 'You', 'may', 'copy', 'it', ',', 'give', 'it', 'away', 'or', 're-use']\n",
      "Issues in tokens:Alice,'s\n"
     ]
    }
   ],
   "source": [
    "default_tokens_alice= word_tokenize(book)\n",
    "print(default_tokens_alice[:50])\n",
    "print(f'Issues in tokens:{default_tokens_alice[5]},{default_tokens_alice[6]}')"
   ]
  },
  {
   "cell_type": "markdown",
   "id": "c28b3c1d-bef7-49c3-9465-eb1b156eab40",
   "metadata": {},
   "source": [
    "After analyzing the data, we can one issue that arises from by-default tokenization is the separation of the possesive mark, \"'s\", from its noun. Generally, this would not be a problem in tokenization but rather something that would have to be handled differently depending on the problem that is treated. For this task, we will be mantaining the possisive attached to its nucleus (the noun). We do this to facilitate POS tagging and interpret \"Alice's\" to have a different function in comparison to the \"Alice\" token. Also, we do this to differentiate possesive markers \"'s\" from other english contractions (i.e. \"'s\" in \"it's\"), as this can be ambiguous. \n",
    "\n",
    "To fix this, we will make use of the RegexTokenizer and a regular expression to adapt our tokenization to the task. This regular expression uses a non-capturing function in Regex (i.e. \"(?: )\"), which indicates the expression to obviate every string that matches the pattern inside this non-capturing group. In a nutshell, in this tokenizer we will use an expression that commands it not to capture full-words and words with apostrophes in the middle. \n",
    "\n",
    "The regular expression first finds the boundaries in strings, and then checks if the word matches the non-capturing group. Inside this group, the Regex matches those strings that have an apostrophe in between two alphanumeric characters and the strings that one or more alphanumeric character (i.e. every other word). \n",
    "\n",
    "This way, our final output consists of tokenized words, including words that include an apostrophe. "
   ]
  },
  {
   "cell_type": "code",
   "execution_count": 4,
   "id": "6a322d42-979f-4cb3-8943-562aa3f8cb7f",
   "metadata": {
    "tags": []
   },
   "outputs": [
    {
     "data": {
      "text/plain": [
       "['The',\n",
       " 'Project',\n",
       " 'Gutenberg',\n",
       " 'eBook',\n",
       " 'of',\n",
       " \"Alice's\",\n",
       " 'Adventures',\n",
       " 'in',\n",
       " 'Wonderland',\n",
       " 'This',\n",
       " 'ebook',\n",
       " 'is',\n",
       " 'for',\n",
       " 'the',\n",
       " 'use',\n",
       " 'of',\n",
       " 'anyone',\n",
       " 'anywhere',\n",
       " 'in',\n",
       " 'the',\n",
       " 'United',\n",
       " 'States',\n",
       " 'and',\n",
       " 'most',\n",
       " 'other',\n",
       " 'parts',\n",
       " 'of',\n",
       " 'the',\n",
       " 'world',\n",
       " 'at',\n",
       " 'no',\n",
       " 'cost',\n",
       " 'and',\n",
       " 'with',\n",
       " 'almost',\n",
       " 'no',\n",
       " 'restrictions',\n",
       " 'whatsoever',\n",
       " 'You',\n",
       " 'may',\n",
       " 'copy',\n",
       " 'it',\n",
       " 'give',\n",
       " 'it',\n",
       " 'away',\n",
       " 'or',\n",
       " 're',\n",
       " 'use',\n",
       " 'it',\n",
       " 'under',\n",
       " 'the',\n",
       " 'terms',\n",
       " 'of',\n",
       " 'the',\n",
       " 'Project',\n",
       " 'Gutenberg',\n",
       " 'License',\n",
       " 'included',\n",
       " 'with',\n",
       " 'this',\n",
       " 'ebook',\n",
       " 'or',\n",
       " 'online',\n",
       " 'at',\n",
       " 'www',\n",
       " 'gutenberg',\n",
       " 'org',\n",
       " 'If',\n",
       " 'you',\n",
       " 'are',\n",
       " 'not',\n",
       " 'located',\n",
       " 'in',\n",
       " 'the',\n",
       " 'United',\n",
       " 'States',\n",
       " 'you',\n",
       " 'will',\n",
       " 'have',\n",
       " 'to',\n",
       " 'check',\n",
       " 'the',\n",
       " 'laws',\n",
       " 'of',\n",
       " 'the',\n",
       " 'country',\n",
       " 'where',\n",
       " 'you',\n",
       " 'are',\n",
       " 'located',\n",
       " 'before',\n",
       " 'using',\n",
       " 'this',\n",
       " 'eBook',\n",
       " 'Title',\n",
       " \"Alice's\",\n",
       " 'Adventures',\n",
       " 'in',\n",
       " 'Wonderland',\n",
       " 'Author']"
      ]
     },
     "execution_count": 4,
     "metadata": {},
     "output_type": "execute_result"
    }
   ],
   "source": [
    "tokenizer = RegexpTokenizer(r\"\\b(?:\\w+['’]\\w+|\\w+)\\b\")\n",
    "alice_tokens= tokenizer.tokenize(book)\n",
    "alice_tokens[:100]"
   ]
  },
  {
   "cell_type": "markdown",
   "id": "d69f8de0-98dc-4b42-88cf-c10c6b8fee97",
   "metadata": {},
   "source": [
    "To normalize the tokenized text, we will now convert our strings into uniform strings with lowercase characters. We do this by using the .lower() function."
   ]
  },
  {
   "cell_type": "code",
   "execution_count": 5,
   "id": "af8ef471-76fa-4e04-af6b-6afb34132fb6",
   "metadata": {
    "tags": []
   },
   "outputs": [],
   "source": [
    "lower_alice=[w.lower() for w in alice_tokens]"
   ]
  },
  {
   "cell_type": "markdown",
   "id": "f1bf8c2f-5ac7-47e6-9227-70bb187aa3a0",
   "metadata": {},
   "source": [
    "Now, to finish normalizing our data, we will take out all of punctuation and stop words (i.e. semantically empty words). We do this so we can work uniquely with words that have meaning.   "
   ]
  },
  {
   "cell_type": "code",
   "execution_count": 6,
   "id": "3d5c4479-1dab-4568-b0a8-1437b554bb60",
   "metadata": {
    "tags": []
   },
   "outputs": [],
   "source": [
    "punctuation= string.punctuation #String with list of punctuation\n",
    "excluded_signs= [\"’\", \"“\", \"”\",\"‘\"] #List of all of the signs that are not included in the predefined string\n",
    "clean_alice= [w for w in lower_alice if w not in punctuation and w not in excluded_signs] #Excludes punctuation\n",
    "stopwords= stopwords.words('english')\n",
    "ns_alice= [w for w in clean_alice if w not in stopwords] #removes stopwords using nltk corpus"
   ]
  },
  {
   "cell_type": "markdown",
   "id": "25217325-04b3-4086-b55c-86c18d578904",
   "metadata": {
    "tags": []
   },
   "source": [
    "For this task, we are aiming to perform lemmatization of our list of words. However, orior to lemmatizing the words, we need to perform a POS tagging so the lemmatizer by NLTK can correctly take each word category and lemmatize them accordinly. For this we use the POS tagger included in the NLTK library. \n"
   ]
  },
  {
   "cell_type": "code",
   "execution_count": 7,
   "id": "822a1017-96e0-41ef-b957-7cb02992617f",
   "metadata": {
    "tags": []
   },
   "outputs": [
    {
     "name": "stdout",
     "output_type": "stream",
     "text": [
      "[('project', 'NN'), ('gutenberg', 'NN'), ('ebook', 'NN'), (\"alice's\", 'NN'), ('adventures', 'NNS'), ('wonderland', 'VBP'), ('ebook', 'NN'), ('use', 'NN'), ('anyone', 'NN'), ('anywhere', 'RB'), ('united', 'JJ'), ('states', 'NNS'), ('parts', 'NNS'), ('world', 'NN'), ('cost', 'NN'), ('almost', 'RB'), ('restrictions', 'NNS'), ('whatsoever', 'VBP'), ('may', 'MD'), ('copy', 'VB')]\n"
     ]
    }
   ],
   "source": [
    "pos_words= pos_tag(ns_alice)\n",
    "print(pos_words[:20])"
   ]
  },
  {
   "cell_type": "markdown",
   "id": "d706505e-fb82-4548-9c59-38d8ca0ba727",
   "metadata": {},
   "source": [
    "Given that the NLTK lemmatizer takes as arguments a word and its category (not represented by the POS tag format, but rather a single letter assigned to each category) we will define a function to translate these tags into the appropiate format. The following function has been found in the following forum and adapted to this code (https://www.geeksforgeeks.org/python-lemmatization-approaches-with-examples/). \n",
    "\n",
    "We first define a function that converts each tag to the appropiate format using *if* conditions. After this is defined, we apply it to the previously defined variable containing the words and POS tags. The last line of code maps each element of the tuple (in position [1]) and applies the defined option to it. The resulting output is seen in the wordnet_tagged variable, containing a modified version of the POS tags. "
   ]
  },
  {
   "cell_type": "code",
   "execution_count": 8,
   "id": "bd04fb1b-b41e-4886-b827-94204d19f0d6",
   "metadata": {
    "tags": []
   },
   "outputs": [
    {
     "name": "stdout",
     "output_type": "stream",
     "text": [
      "Example of the output:[('project', 'n'), ('gutenberg', 'n'), ('ebook', 'n'), (\"alice's\", 'n'), ('adventures', 'n'), ('wonderland', 'v'), ('ebook', 'n'), ('use', 'n'), ('anyone', 'n'), ('anywhere', 'r')]\n"
     ]
    }
   ],
   "source": [
    "def pos_tagger(nltk_tag):\n",
    "    if nltk_tag.startswith('J'):\n",
    "        return wordnet.ADJ\n",
    "    elif nltk_tag.startswith('V'):\n",
    "        return wordnet.VERB\n",
    "    elif nltk_tag.startswith('N'):\n",
    "        return wordnet.NOUN\n",
    "    elif nltk_tag.startswith('R'):\n",
    "        return wordnet.ADV\n",
    "    else:          \n",
    "        return None\n",
    "wordnet_tagged = list(map(lambda x: (x[0], pos_tagger(x[1])), pos_words))\n",
    "print(f'Example of the output:{wordnet_tagged[:10]}')"
   ]
  },
  {
   "cell_type": "markdown",
   "id": "cab3c6ce-ab3f-46a4-9d57-a74ec131a808",
   "metadata": {},
   "source": [
    "Now that we have adapted our data, we can perform lemmatization. The following cell defined the lemmatizer and an empty list to store the output. To lemmatize, we use a loop that takes every tag in the provided list and lemmatizes the word using its tag, as long as the in the tag is not 'None'. If this is the case, the word will not be lemmatized and will be appended to the list as it is. "
   ]
  },
  {
   "cell_type": "code",
   "execution_count": 9,
   "id": "e5164de0-1722-46b4-b429-f5c57b183910",
   "metadata": {
    "tags": []
   },
   "outputs": [
    {
     "name": "stdout",
     "output_type": "stream",
     "text": [
      "Lemmatized version of words: ['project', 'gutenberg', 'ebook', \"alice's\", 'adventure', 'wonderland', 'ebook', 'use', 'anyone', 'anywhere', 'united', 'state', 'part', 'world', 'cost', 'almost', 'restriction', 'whatsoever', 'may', 'copy', 'give', 'away', 'use', 'term', 'project', 'gutenberg', 'license', 'include', 'ebook', 'online', 'www', 'gutenberg', 'org', 'locate', 'united', 'state', 'check', 'law', 'country', 'locate']\n",
      "\n",
      "\n",
      "Not lemmatized words: [('project', 'n'), ('gutenberg', 'n'), ('ebook', 'n'), (\"alice's\", 'n'), ('adventures', 'n'), ('wonderland', 'v'), ('ebook', 'n'), ('use', 'n'), ('anyone', 'n'), ('anywhere', 'r'), ('united', 'a'), ('states', 'n'), ('parts', 'n'), ('world', 'n'), ('cost', 'n'), ('almost', 'r'), ('restrictions', 'n'), ('whatsoever', 'v'), ('may', None), ('copy', 'v'), ('give', 'v'), ('away', 'r'), ('use', 'n'), ('terms', 'n'), ('project', 'v'), ('gutenberg', 'a'), ('license', 'n'), ('included', 'v'), ('ebook', 'a'), ('online', 'n'), ('www', 'n'), ('gutenberg', 'n'), ('org', 'n'), ('located', 'v'), ('united', 'a'), ('states', 'n'), ('check', 'v'), ('laws', 'n'), ('country', 'n'), ('located', 'v')]\n"
     ]
    }
   ],
   "source": [
    "lemmatizer = WordNetLemmatizer()\n",
    "lemmatized_words = []\n",
    "for word, tag in wordnet_tagged:\n",
    "    if tag is None:\n",
    "        # if there is no available tag, append the token as it is\n",
    "        lemmatized_words.append(word)\n",
    "    else:        \n",
    "        # else use the tag to lemmatize the token\n",
    "        lemmatized_words.append(lemmatizer.lemmatize(word, tag))\n",
    "\n",
    "print('Lemmatized version of words:',lemmatized_words[0:40])\n",
    "print('\\n')\n",
    "print('Not lemmatized words:', wordnet_tagged[0:40])"
   ]
  },
  {
   "cell_type": "markdown",
   "id": "0c6dd72a-6997-4008-9f16-35615f593b33",
   "metadata": {},
   "source": [
    "Once the words have been lemmatized, we will show the words by frequency of apperance. To calculate this frequency, we will use the frequency distribution function in NLTK. As the output is too large, we will only show the most frequent 50."
   ]
  },
  {
   "cell_type": "code",
   "execution_count": 17,
   "id": "560e3c3f-cf74-4528-8fcb-4f38609b8c90",
   "metadata": {
    "tags": []
   },
   "outputs": [
    {
     "name": "stdout",
     "output_type": "stream",
     "text": [
      "[('say', 530), ('alice', 386), ('go', 180), ('little', 127), ('get', 113), ('know', 105), ('think', 103), ('one', 103), ('look', 102), ('come', 98), ('gutenberg', 97), ('begin', 96), ('like', 89), ('project', 88), ('see', 86), ('work', 86), ('thing', 82), ('make', 80), ('would', 78), ('time', 77), ('could', 75), ('well', 69), ('queen', 69), ('king', 62), ('way', 60), ('don’t', 60), ('head', 58), ('turtle', 58), ('mock', 57), ('take', 57), ('it’s', 57), ('use', 56), ('i’m', 56), ('hatter', 56), ('gryphon', 55), ('find', 54), ('quite', 53), ('much', 52), ('first', 51), ('must', 51), ('voice', 51), ('rabbit', 50), ('cat', 48), ('mouse', 47), ('never', 46), ('1', 46), ('oh', 45), ('tell', 42), ('large', 41), ('round', 41)]\n"
     ]
    }
   ],
   "source": [
    "#Lemmatized words shown by frequency of apperance \n",
    "\n",
    "freqdist_lemmas= FreqDist(lemmatized_words) \n",
    "print(freqdist_lemmas.most_common(50))"
   ]
  },
  {
   "cell_type": "markdown",
   "id": "20bd78dd-6d9a-47d4-8882-1463898f7034",
   "metadata": {},
   "source": [
    "Finally, for the last part of this exercise, we will count the frequency of the POS tags in the words we previosly tagged using this NLTK (stored the pos_words variable). As in the previous cell, we will use the NLTK frequency distribution.\n",
    "\n",
    "In the pos_words varible, we can see we have a list of tuples containing a word in position 0 and its POS tag in position 1. The following code takes this variable and extracts the item in position 1 (i.e. POS tags) for each of the items of that list. Once we have all of the POS tags enlisted in a single variable, we use the NLTK Frequency distribution function to see the frequency in which each POS tag appears in the text. \n",
    "\n",
    "To show the output of the frequency distrubition itself, we printed the 20 most common POS tags according to this frequency calculation. Lastly, using the frequencies calculated of the whole set of tags, we plot a bar graph using the Matplotlib library. For better integibility, we will only plot the 20 most common POS tags. \n",
    "\n",
    "The final plot shows the POS tags in X axis and the number of frequencies in Y axis. \n"
   ]
  },
  {
   "cell_type": "code",
   "execution_count": 13,
   "id": "65d4e2e2-9064-4515-a4d7-f2eaeeea3b2f",
   "metadata": {
    "tags": []
   },
   "outputs": [
    {
     "name": "stdout",
     "output_type": "stream",
     "text": [
      "Most frequent POS tags: [('NN', 4793), ('JJ', 2645), ('VBD', 1587), ('RB', 1227), ('NNS', 978), ('VBG', 714), ('VBP', 565), ('VB', 477), ('VBN', 429), ('MD', 305), ('CD', 304), ('IN', 286), ('VBZ', 166), ('NNP', 121), ('JJR', 52), ('DT', 41), ('JJS', 36), ('RBR', 31), ('RP', 20), ('PRP', 17)]\n"
     ]
    },
    {
     "data": {
      "image/png": "[encoded data removed]",
      "text/plain": [
       "<Figure size 1100x800 with 1 Axes>"
      ]
     },
     "metadata": {},
     "output_type": "display_data"
    }
   ],
   "source": [
    "tags= [str(i[1]) for i in pos_words]\n",
    "freqdist= FreqDist(tags)\n",
    "print('Most frequent POS tags:',freqdist.most_common(20))\n",
    "\n",
    "#Data preparing for the plot\n",
    "frequencies = [count for tag, count in freqdist.most_common(20)]\n",
    "labels = [tag for tag, count in freqdist.most_common(20)]\n",
    "\n",
    "#Bar graph \n",
    "fig, ax = plt.subplots(figsize=(11, 8))\n",
    "ax.bar(labels, frequencies, color='purple')\n",
    "ax.set_title('Frequency of grammatical categories in \"Alice in Wonderland\"')\n",
    "ax.set_xlabel('POS Tags')\n",
    "ax.set_ylabel('Frequencies')\n",
    "\n",
    "plt.show()\n"
   ]
  },
  {
   "cell_type": "markdown",
   "id": "47672b86-5b87-4067-9d33-71c00c2d525f",
   "metadata": {},
   "source": [
    "For demostration purposes, we show a complete version of the set of tags in a plot."
   ]
  },
  {
   "cell_type": "code",
   "execution_count": 14,
   "id": "24208895-85d1-4802-a626-60bb37ab0989",
   "metadata": {
    "tags": []
   },
   "outputs": [
    {
     "data": {
      "image/png": "[encoded data removed]",
      "text/plain": [
       "<Figure size 1100x800 with 1 Axes>"
      ]
     },
     "metadata": {},
     "output_type": "display_data"
    }
   ],
   "source": [
    "#In case of wanting to plot all of the tags (not just the 20 most frequent)\n",
    "\n",
    "#Data preparing for the plot\n",
    "frequencies = [count for tag, count in freqdist.most_common()]\n",
    "labels = [tag for tag, count in freqdist.most_common()]\n",
    "\n",
    "#Bar graph \n",
    "fig, ax = plt.subplots(figsize=(11, 8))\n",
    "ax.bar(labels, frequencies, color='purple')\n",
    "ax.set_title('Frequency of grammatical categories in \"Alice in Wonderland\"')\n",
    "ax.set_xlabel('POS Tags')\n",
    "ax.set_ylabel('Frequencies')\n",
    "\n",
    "plt.show()\n",
    "\n"
   ]
  }
 ],
 "metadata": {
  "kernelspec": {
   "display_name": "Python 3 (ipykernel)",
   "language": "python",
   "name": "python3"
  },
  "language_info": {
   "codemirror_mode": {
    "name": "ipython",
    "version": 3
   },
   "file_extension": ".py",
   "mimetype": "text/x-python",
   "name": "python",
   "nbconvert_exporter": "python",
   "pygments_lexer": "ipython3",
   "version": "3.11.5"
  }
 },
 "nbformat": 4,
 "nbformat_minor": 5
}
